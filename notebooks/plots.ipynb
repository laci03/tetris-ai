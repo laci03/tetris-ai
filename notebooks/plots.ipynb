{
 "cells": [
  {
   "cell_type": "code",
   "execution_count": null,
   "id": "ca33fc6c",
   "metadata": {},
   "outputs": [],
   "source": [
    "import os\n",
    "\n",
    "import pandas as pd\n",
    "import matplotlib.pyplot as plt\n",
    "import numpy as np"
   ]
  },
  {
   "cell_type": "code",
   "execution_count": null,
   "id": "98439ebb",
   "metadata": {},
   "outputs": [],
   "source": [
    "experiment_path = '../exp_2/'"
   ]
  },
  {
   "cell_type": "code",
   "execution_count": null,
   "id": "3550d990",
   "metadata": {},
   "outputs": [],
   "source": [
    "files = [file for file in os.listdir(experiment_path) if file[-3:] == 'csv']\n",
    "files = sorted(files, key=lambda x: int(x.split('_')[1]))"
   ]
  },
  {
   "cell_type": "code",
   "execution_count": null,
   "id": "a0a21fd7",
   "metadata": {},
   "outputs": [],
   "source": [
    "len(files)"
   ]
  },
  {
   "cell_type": "code",
   "execution_count": null,
   "id": "1dff9e14",
   "metadata": {},
   "outputs": [],
   "source": [
    "dfs = [pd.read_csv(os.path.join(experiment_path, file), index_col=0) for file in files]"
   ]
  },
  {
   "cell_type": "code",
   "execution_count": null,
   "id": "0992a184",
   "metadata": {},
   "outputs": [],
   "source": [
    "# plot the max"
   ]
  },
  {
   "cell_type": "code",
   "execution_count": null,
   "id": "bfd2acfc",
   "metadata": {},
   "outputs": [],
   "source": [
    "def get_f(dataframes, column, f):\n",
    "    aux = []\n",
    "    for df in dataframes:\n",
    "        aux.append(f(df[column]))\n",
    "        \n",
    "    return aux"
   ]
  },
  {
   "cell_type": "code",
   "execution_count": null,
   "id": "a4b59d3a",
   "metadata": {},
   "outputs": [],
   "source": [
    "fig, ax = plt.subplots(figsize=(13, 8))\n",
    "\n",
    "maxs = get_f(dfs, 'score', np.max)\n",
    "plt.plot(range(len(maxs)), maxs, label='best score')\n",
    "\n",
    "medians = get_f(dfs, 'score', np.median)\n",
    "plt.plot(range(len(medians)), medians, label='median score')\n",
    "\n",
    "means = get_f(dfs, 'score', np.mean)\n",
    "plt.plot(range(len(means)), means, label='mean score')\n",
    "\n",
    "mins = get_f(dfs, 'score', np.min)\n",
    "plt.plot(range(len(mins)), mins, label='minimum score')\n",
    "\n",
    "\n",
    "ax.spines.right.set_visible(False)\n",
    "ax.spines.top.set_visible(False)\n",
    "\n",
    "plt.legend()\n",
    "\n",
    "ax.set_title('achieved score across different generations', fontsize=16, pad=20);\n",
    "\n",
    "ax.set_ylabel('obtained score', fontsize=12)\n",
    "ax.set_xlabel('generations', fontsize=12)"
   ]
  },
  {
   "cell_type": "code",
   "execution_count": null,
   "id": "9339110e",
   "metadata": {},
   "outputs": [],
   "source": [
    "fig, ax = plt.subplots(figsize=(13, 8))\n",
    "\n",
    "maxs = get_f(dfs, 'moves', np.max)\n",
    "plt.plot(range(len(maxs)), maxs, label='highest')\n",
    "\n",
    "medians = get_f(dfs, 'moves', np.median)\n",
    "plt.plot(range(len(medians)), medians, label='median')\n",
    "\n",
    "means = get_f(dfs, 'moves', np.mean)\n",
    "plt.plot(range(len(means)), means, label='mean')\n",
    "\n",
    "mins = get_f(dfs, 'moves', np.min)\n",
    "plt.plot(range(len(mins)), mins, label='lowest')\n",
    "\n",
    "\n",
    "ax.spines.right.set_visible(False)\n",
    "ax.spines.top.set_visible(False)\n",
    "\n",
    "plt.legend()\n",
    "\n",
    "ax.set_title('number of \"moves\" across different generations', fontsize=16, pad=20);\n",
    "\n",
    "ax.set_ylabel('# moves', fontsize=12)\n",
    "ax.set_xlabel('generations', fontsize=12)"
   ]
  },
  {
   "cell_type": "code",
   "execution_count": null,
   "id": "59ef0829",
   "metadata": {},
   "outputs": [],
   "source": [
    "scores = np.array([dfs[i]['score'].values for i in range(len(dfs))]).T"
   ]
  },
  {
   "cell_type": "code",
   "execution_count": null,
   "id": "7fc64edc",
   "metadata": {},
   "outputs": [],
   "source": [
    "fig, ax = plt.subplots(figsize=(13, 8))\n",
    "\n",
    "for score in scores:\n",
    "    plt.plot(range(len(score)), score)\n",
    "    \n",
    "ax.spines.right.set_visible(False)\n",
    "ax.spines.top.set_visible(False)\n",
    "\n",
    "ax.set_title('achieved score across different generations', fontsize=16, pad=20);\n",
    "\n",
    "ax.set_ylabel('obtained scores', fontsize=12)\n",
    "ax.set_xlabel('generations', fontsize=12)"
   ]
  },
  {
   "cell_type": "code",
   "execution_count": null,
   "id": "8cbb5dcd",
   "metadata": {
    "scrolled": false
   },
   "outputs": [],
   "source": [
    "moves = np.array([sorted(dfs[i]['moves'].values, reverse=True) for i in range(len(dfs))]).T\n",
    "\n",
    "fig, ax = plt.subplots(figsize=(13, 8))\n",
    "\n",
    "for move in moves:\n",
    "    plt.plot(range(len(move)), move)\n",
    "    \n",
    "ax.spines.right.set_visible(False)\n",
    "ax.spines.top.set_visible(False)\n",
    "\n",
    "ax.set_title('number of \"moves\" across different generations', fontsize=16, pad=20);\n",
    "\n",
    "ax.set_ylabel('# moves', fontsize=12)\n",
    "ax.set_xlabel('generations', fontsize=12)"
   ]
  },
  {
   "cell_type": "code",
   "execution_count": null,
   "id": "f8dccdbd",
   "metadata": {},
   "outputs": [],
   "source": [
    "# max_height_heuristics = np.array([dfs[i]['max_height'].values for i in range(len(dfs))]).T\n",
    "\n",
    "# fig, ax = plt.subplots(figsize=(13, 8))\n",
    "\n",
    "# for max_heights_heuristic in max_height_heuristics:\n",
    "#     plt.scatter(range(len(max_heights_heuristic)), max_heights_heuristic, color='g')\n",
    "    \n",
    "# ax.spines.right.set_visible(False)\n",
    "# ax.spines.top.set_visible(False)\n",
    "\n",
    "# avg_height_heuristics = np.array([dfs[i]['avg_height'].values for i in range(len(dfs))]).T\n",
    "\n",
    "\n",
    "# fig, ax = plt.subplots(figsize=(13, 8))\n",
    "\n",
    "# for avg_heights_heuristic in avg_height_heuristics:\n",
    "#     plt.scatter(range(len(avg_heights_heuristic)), avg_heights_heuristic, color='b')\n",
    "    \n",
    "# cleared_rows_heuristics = np.array([dfs[i]['cleared_rows'].values for i in range(len(dfs))]).T\n",
    "\n",
    "\n",
    "# fig, ax = plt.subplots(figsize=(13, 8))\n",
    "\n",
    "# for cleared_rows_heuristic in cleared_rows_heuristics:\n",
    "#     plt.scatter(range(len(cleared_rows_heuristic)), cleared_rows_heuristic, color='orange')"
   ]
  },
  {
   "cell_type": "code",
   "execution_count": null,
   "id": "1d5c444a",
   "metadata": {},
   "outputs": [],
   "source": [
    "colors = ['#E58606', '#5D69B1', '#52BCA3', '#99C945', '#A5AA99', '#24796C', '#DAA51B']\n"
   ]
  },
  {
   "cell_type": "code",
   "execution_count": null,
   "id": "7ff076b5",
   "metadata": {
    "scrolled": false
   },
   "outputs": [],
   "source": [
    "fig, ax = plt.subplots(4, 2, figsize=(12, 14))\n",
    "fig.tight_layout(pad=5.0)\n",
    "\n",
    "for i, column in enumerate(dfs[0].columns[:-2]):\n",
    "    heuristic_weights = np.array([dfs[i][column].values for i in range(len(dfs))]).T\n",
    "    \n",
    "    idx = int(i/2)\n",
    "    jdx = i % 2\n",
    "    \n",
    "#     ax[idx, jdx].set_ylim(-1, 1)\n",
    "    \n",
    "    color = colors[i]\n",
    "    \n",
    "    for heuristic_weight in heuristic_weights:\n",
    "        ax[idx, jdx].scatter(range(len(heuristic_weight)), heuristic_weight, color=color)\n",
    "        \n",
    "    ax[idx, jdx].spines.right.set_visible(False)\n",
    "    ax[idx, jdx].spines.top.set_visible(False)\n",
    "\n",
    "    ax[idx, jdx].set_title(column)\n",
    "\n",
    "fig.delaxes(ax[-1, -1])"
   ]
  },
  {
   "cell_type": "code",
   "execution_count": null,
   "id": "3a85bd83",
   "metadata": {},
   "outputs": [],
   "source": []
  }
 ],
 "metadata": {
  "kernelspec": {
   "display_name": "Python 3 (ipykernel)",
   "language": "python",
   "name": "python3"
  },
  "language_info": {
   "codemirror_mode": {
    "name": "ipython",
    "version": 3
   },
   "file_extension": ".py",
   "mimetype": "text/x-python",
   "name": "python",
   "nbconvert_exporter": "python",
   "pygments_lexer": "ipython3",
   "version": "3.10.6"
  }
 },
 "nbformat": 4,
 "nbformat_minor": 5
}
